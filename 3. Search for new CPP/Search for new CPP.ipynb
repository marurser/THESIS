{
  "nbformat": 4,
  "nbformat_minor": 0,
  "metadata": {
    "colab": {
      "name": "Копия Search for new CPP.ipynb",
      "provenance": [],
      "collapsed_sections": [
        "A9APL6HH1yav",
        "PHqc9LkrLTDw",
        "8cx2Lgnk12Ip",
        "FwjgLm1zLO_Y",
        "U2vsjETuLS4L",
        "OpKXAyKtLTIt"
      ],
      "toc_visible": true,
      "authorship_tag": "ABX9TyMoAqXkW4F30PshGDtKML/B"
    },
    "kernelspec": {
      "display_name": "Python 3",
      "name": "python3"
    },
    "language_info": {
      "name": "python"
    }
  },
  "cells": [
    {
      "cell_type": "markdown",
      "metadata": {
        "id": "gHZOGHn3KMLc"
      },
      "source": [
        "# Установка пакетов, догрузка необходимых файлов и функций"
      ]
    },
    {
      "cell_type": "code",
      "metadata": {
        "id": "5KJ5wMQMKCPX",
        "colab": {
          "base_uri": "https://localhost:8080/"
        },
        "outputId": "8039ffd6-b1ad-4d6c-8df1-1680e8a921ac"
      },
      "source": [
        "!pip install pyteomics\n",
        "!pip install biopython\n",
        "!pip install modlamp\n",
        "!pip install propy3 \n",
        "!pip install PyPro"
      ],
      "execution_count": null,
      "outputs": [
        {
          "output_type": "stream",
          "name": "stdout",
          "text": [
            "Collecting pyteomics\n",
            "  Downloading pyteomics-4.5-py2.py3-none-any.whl (224 kB)\n",
            "\u001b[?25l\r\u001b[K     |█▌                              | 10 kB 22.3 MB/s eta 0:00:01\r\u001b[K     |███                             | 20 kB 28.8 MB/s eta 0:00:01\r\u001b[K     |████▍                           | 30 kB 35.2 MB/s eta 0:00:01\r\u001b[K     |█████▉                          | 40 kB 39.1 MB/s eta 0:00:01\r\u001b[K     |███████▎                        | 51 kB 10.9 MB/s eta 0:00:01\r\u001b[K     |████████▊                       | 61 kB 11.1 MB/s eta 0:00:01\r\u001b[K     |██████████▏                     | 71 kB 8.7 MB/s eta 0:00:01\r\u001b[K     |███████████▊                    | 81 kB 9.6 MB/s eta 0:00:01\r\u001b[K     |█████████████▏                  | 92 kB 9.3 MB/s eta 0:00:01\r\u001b[K     |██████████████▋                 | 102 kB 8.6 MB/s eta 0:00:01\r\u001b[K     |████████████████                | 112 kB 8.6 MB/s eta 0:00:01\r\u001b[K     |█████████████████▌              | 122 kB 8.6 MB/s eta 0:00:01\r\u001b[K     |███████████████████             | 133 kB 8.6 MB/s eta 0:00:01\r\u001b[K     |████████████████████▍           | 143 kB 8.6 MB/s eta 0:00:01\r\u001b[K     |█████████████████████▉          | 153 kB 8.6 MB/s eta 0:00:01\r\u001b[K     |███████████████████████▍        | 163 kB 8.6 MB/s eta 0:00:01\r\u001b[K     |████████████████████████▉       | 174 kB 8.6 MB/s eta 0:00:01\r\u001b[K     |██████████████████████████▎     | 184 kB 8.6 MB/s eta 0:00:01\r\u001b[K     |███████████████████████████▊    | 194 kB 8.6 MB/s eta 0:00:01\r\u001b[K     |█████████████████████████████▏  | 204 kB 8.6 MB/s eta 0:00:01\r\u001b[K     |██████████████████████████████▋ | 215 kB 8.6 MB/s eta 0:00:01\r\u001b[K     |████████████████████████████████| 224 kB 8.6 MB/s \n",
            "\u001b[?25hInstalling collected packages: pyteomics\n",
            "Successfully installed pyteomics-4.5\n",
            "Collecting biopython\n",
            "  Downloading biopython-1.79-cp37-cp37m-manylinux_2_5_x86_64.manylinux1_x86_64.whl (2.3 MB)\n",
            "\u001b[K     |████████████████████████████████| 2.3 MB 7.4 MB/s \n",
            "\u001b[?25hRequirement already satisfied: numpy in /usr/local/lib/python3.7/dist-packages (from biopython) (1.19.5)\n",
            "Installing collected packages: biopython\n",
            "Successfully installed biopython-1.79\n",
            "Collecting modlamp\n",
            "  Downloading modlamp-4.3.0.tar.gz (8.0 MB)\n",
            "\u001b[K     |████████████████████████████████| 8.0 MB 7.5 MB/s \n",
            "\u001b[?25hRequirement already satisfied: setuptools>=20.2.2 in /usr/local/lib/python3.7/dist-packages (from modlamp) (57.4.0)\n",
            "Collecting nose>=1.3.7\n",
            "  Downloading nose-1.3.7-py3-none-any.whl (154 kB)\n",
            "\u001b[K     |████████████████████████████████| 154 kB 51.5 MB/s \n",
            "\u001b[?25hRequirement already satisfied: numpy>=1.10.4 in /usr/local/lib/python3.7/dist-packages (from modlamp) (1.19.5)\n",
            "Requirement already satisfied: scipy>=0.17.0 in /usr/local/lib/python3.7/dist-packages (from modlamp) (1.4.1)\n",
            "Requirement already satisfied: matplotlib>=1.5.1 in /usr/local/lib/python3.7/dist-packages (from modlamp) (3.2.2)\n",
            "Requirement already satisfied: scikit-learn>=0.18.0 in /usr/local/lib/python3.7/dist-packages (from modlamp) (1.0.1)\n",
            "Requirement already satisfied: pandas>=0.18.1 in /usr/local/lib/python3.7/dist-packages (from modlamp) (1.1.5)\n",
            "Requirement already satisfied: requests>=2.11.1 in /usr/local/lib/python3.7/dist-packages (from modlamp) (2.23.0)\n",
            "Requirement already satisfied: lxml>=3.6.4 in /usr/local/lib/python3.7/dist-packages (from modlamp) (4.2.6)\n",
            "Requirement already satisfied: joblib>=0.15.1 in /usr/local/lib/python3.7/dist-packages (from modlamp) (1.1.0)\n",
            "Collecting mysql-connector-python==8.0.17\n",
            "  Downloading mysql_connector_python-8.0.17-cp37-cp37m-manylinux1_x86_64.whl (13.1 MB)\n",
            "\u001b[K     |████████████████████████████████| 13.1 MB 53.6 MB/s \n",
            "\u001b[?25hRequirement already satisfied: protobuf>=3.0.0 in /usr/local/lib/python3.7/dist-packages (from mysql-connector-python==8.0.17->modlamp) (3.17.3)\n",
            "Requirement already satisfied: kiwisolver>=1.0.1 in /usr/local/lib/python3.7/dist-packages (from matplotlib>=1.5.1->modlamp) (1.3.2)\n",
            "Requirement already satisfied: python-dateutil>=2.1 in /usr/local/lib/python3.7/dist-packages (from matplotlib>=1.5.1->modlamp) (2.8.2)\n",
            "Requirement already satisfied: pyparsing!=2.0.4,!=2.1.2,!=2.1.6,>=2.0.1 in /usr/local/lib/python3.7/dist-packages (from matplotlib>=1.5.1->modlamp) (3.0.6)\n",
            "Requirement already satisfied: cycler>=0.10 in /usr/local/lib/python3.7/dist-packages (from matplotlib>=1.5.1->modlamp) (0.11.0)\n",
            "Requirement already satisfied: pytz>=2017.2 in /usr/local/lib/python3.7/dist-packages (from pandas>=0.18.1->modlamp) (2018.9)\n",
            "Requirement already satisfied: six>=1.9 in /usr/local/lib/python3.7/dist-packages (from protobuf>=3.0.0->mysql-connector-python==8.0.17->modlamp) (1.15.0)\n",
            "Requirement already satisfied: chardet<4,>=3.0.2 in /usr/local/lib/python3.7/dist-packages (from requests>=2.11.1->modlamp) (3.0.4)\n",
            "Requirement already satisfied: certifi>=2017.4.17 in /usr/local/lib/python3.7/dist-packages (from requests>=2.11.1->modlamp) (2021.10.8)\n",
            "Requirement already satisfied: urllib3!=1.25.0,!=1.25.1,<1.26,>=1.21.1 in /usr/local/lib/python3.7/dist-packages (from requests>=2.11.1->modlamp) (1.24.3)\n",
            "Requirement already satisfied: idna<3,>=2.5 in /usr/local/lib/python3.7/dist-packages (from requests>=2.11.1->modlamp) (2.10)\n",
            "Requirement already satisfied: threadpoolctl>=2.0.0 in /usr/local/lib/python3.7/dist-packages (from scikit-learn>=0.18.0->modlamp) (3.0.0)\n",
            "Building wheels for collected packages: modlamp\n",
            "  Building wheel for modlamp (setup.py) ... \u001b[?25l\u001b[?25hdone\n",
            "  Created wheel for modlamp: filename=modlamp-4.3.0-py3-none-any.whl size=173903 sha256=579da1eb79a348d36372158dde92bc6268b49a34bb2d0e3891070ebe00e7b759\n",
            "  Stored in directory: /root/.cache/pip/wheels/89/2a/d3/d878765a345146eebefa0fd9feb33ba35b6bdf074530f4fb67\n",
            "Successfully built modlamp\n",
            "Installing collected packages: nose, mysql-connector-python, modlamp\n",
            "Successfully installed modlamp-4.3.0 mysql-connector-python-8.0.17 nose-1.3.7\n",
            "Collecting propy3\n",
            "  Downloading propy3-1.0.2-py3-none-any.whl (278 kB)\n",
            "\u001b[K     |████████████████████████████████| 278 kB 6.8 MB/s \n",
            "\u001b[?25hInstalling collected packages: propy3\n",
            "Successfully installed propy3-1.0.2\n",
            "Collecting PyPro\n",
            "  Downloading pypro-0.1.0.zip (6.7 kB)\n",
            "Building wheels for collected packages: PyPro\n",
            "  Building wheel for PyPro (setup.py) ... \u001b[?25l\u001b[?25hdone\n",
            "  Created wheel for PyPro: filename=pypro-0.1.0-py3-none-any.whl size=6685 sha256=6bed56cb2300b2d8b43e2fb9f48234eb310ca909f09b96dda71e530dc03eada3\n",
            "  Stored in directory: /root/.cache/pip/wheels/18/20/31/f662e327173157125ad5dbae04d4b85eaccf3c2e13b99c55c9\n",
            "Successfully built PyPro\n",
            "Installing collected packages: PyPro\n",
            "Successfully installed PyPro-0.1.0\n"
          ]
        }
      ]
    },
    {
      "cell_type": "code",
      "metadata": {
        "id": "6ygvvUlcKCSv"
      },
      "source": [
        "import csv\n",
        "import joblib\n",
        "import pandas as pd\n",
        "import pyteomics.parser as parser\n",
        "import re\n",
        "import time\n",
        "import xgboost\n",
        "from Bio import SeqIO\n",
        "from Bio.SeqUtils.ProtParam import ProteinAnalysis \n",
        "from propy import CTD\n",
        "from propy import PyPro\n",
        "from pyteomics.parser import cleave, expasy_rules\n",
        "from sklearn import svm\n",
        "from sklearn.metrics import mean_squared_error, make_scorer, classification_report, confusion_matrix\n",
        "from sklearn.metrics import roc_curve, f1_score, precision_score, recall_score, accuracy_score, roc_auc_score\n",
        "from sklearn.preprocessing import StandardScaler\n",
        "from modlamp.database import query_database\n",
        "from modlamp.descriptors import PeptideDescriptor, GlobalDescriptor\n",
        "from modlamp.sequences import Helices"
      ],
      "execution_count": null,
      "outputs": []
    },
    {
      "cell_type": "code",
      "metadata": {
        "id": "41cVmER4AAfc",
        "colab": {
          "base_uri": "https://localhost:8080/"
        },
        "outputId": "40da6500-91f9-4411-845c-a7ce5ef78295"
      },
      "source": [
        "#Пути к файлам\n",
        "Total_models_path = '2. Model training and parameter estimation/Total models/'\n",
        "Organisms_path = '3. Search for new CPP/Organisms/'\n",
        "Results_path = '3. Search for new CPP/Results/'\n",
        "\n",
        "#Часто используемые переменные\n",
        "CPP_test_file = '1. Sample creation/Total/df_SAMPLE.csv'\n",
        "animals = ['Spider', 'Jellyfish', 'Red ant', 'Honeybee', 'Snake', 'Leech']\n",
        "proteome = [True, True, False, False, False, False]\n",
        "\n",
        "#Модели\n",
        "KNN_model = joblib.load(Total_models_path + 'KN_model_final.pkl')\n",
        "XGB_model = joblib.load(Total_models_path + 'XGB_model_final.pkl')\n",
        "RFM_model = joblib.load(Total_models_path + 'RF_model_final.pkl')\n",
        "\n",
        "#Организмы\n",
        "spider_file = 'SPIDER.fasta'\n",
        "jellyfish_file = 'JELLYFISH.xlsx'\n",
        "red_ant_file = 'RED_ANT.xlsx'\n",
        "honeybee_file = 'HONEYBEE.xlsx'\n",
        "snake_file = 'SNAKE.xlsx'\n",
        "leech_file = 'LEECH.fasta'\n",
        "animals_file = [spider_file, jellyfish_file, red_ant_file, \n",
        "                honeybee_file,snake_file, leech_file]\n",
        "\n",
        "spider_result = 'spider.csv'\n",
        "jellyfish_result = 'jellyfish.csv'\n",
        "red_ant_result = 'red_ant.csv'\n",
        "honeybee_result = 'honeybee.csv'\n",
        "snake_result = 'snake.csv'\n",
        "leech_result = 'leech.csv'\n",
        "animals_result = [spider_result, jellyfish_result, red_ant_result, \n",
        "                  honeybee_result, snake_result, leech_result]"
      ],
      "execution_count": null,
      "outputs": [
        {
          "output_type": "stream",
          "name": "stderr",
          "text": [
            "/usr/local/lib/python3.7/dist-packages/sklearn/base.py:333: UserWarning: Trying to unpickle estimator KNeighborsClassifier from version 0.22.2.post1 when using version 1.0.1. This might lead to breaking code or invalid results. Use at your own risk. For more info please refer to:\n",
            "https://scikit-learn.org/stable/modules/model_persistence.html#security-maintainability-limitations\n",
            "  UserWarning,\n",
            "/usr/local/lib/python3.7/dist-packages/sklearn/base.py:333: UserWarning: Trying to unpickle estimator LabelEncoder from version 0.22.2.post1 when using version 1.0.1. This might lead to breaking code or invalid results. Use at your own risk. For more info please refer to:\n",
            "https://scikit-learn.org/stable/modules/model_persistence.html#security-maintainability-limitations\n",
            "  UserWarning,\n",
            "/usr/local/lib/python3.7/dist-packages/sklearn/base.py:333: UserWarning: Trying to unpickle estimator DecisionTreeClassifier from version 0.22.2.post1 when using version 1.0.1. This might lead to breaking code or invalid results. Use at your own risk. For more info please refer to:\n",
            "https://scikit-learn.org/stable/modules/model_persistence.html#security-maintainability-limitations\n",
            "  UserWarning,\n",
            "/usr/local/lib/python3.7/dist-packages/sklearn/base.py:333: UserWarning: Trying to unpickle estimator RandomForestClassifier from version 0.22.2.post1 when using version 1.0.1. This might lead to breaking code or invalid results. Use at your own risk. For more info please refer to:\n",
            "https://scikit-learn.org/stable/modules/model_persistence.html#security-maintainability-limitations\n",
            "  UserWarning,\n"
          ]
        }
      ]
    },
    {
      "cell_type": "code",
      "metadata": {
        "id": "uMQv7g-lKCWL"
      },
      "source": [
        "#Файл ---> Список последовательностей\n",
        "def reading_sequences_from_file(file_name):\n",
        "    file_format = file_name.split('.')[-1]\n",
        "    file_name = Organisms_path + file_name\n",
        "    if file_format == 'xlsx':\n",
        "        animal = pd.read_excel(file_name)['Peptide'].drop_duplicates()\n",
        "    if file_format == 'csv':\n",
        "        animal = pd.read_csv(file_name)['Peptide'].drop_duplicates()\n",
        "    if file_format == 'fasta':\n",
        "        animal = list()\n",
        "        with open(file_name) as file:\n",
        "            seqs = SeqIO.parse(file, \"fasta\")\n",
        "            for seq in seqs:\n",
        "                animal.append(str(seq.seq))\n",
        "        animal = list(set(animal))\n",
        "    return animal\n",
        "\n",
        "#Список белков ---> Словарь белков и пептидов + Список пептидов\n",
        "def proteins_for_peptides(animal_proteins):\n",
        "    result = dict()\n",
        "    peptides = list()\n",
        "    for protein in animal_proteins:\n",
        "        result[protein] = []\n",
        "        for rule in parser.expasy_rules.keys():\n",
        "            pep = cleave(protein, expasy_rules[rule])\n",
        "            for p in pep:\n",
        "                result[protein].append(p)\n",
        "                peptides.append(p)\n",
        "    return result, list(set(peptides))\n",
        "\n",
        "#Пептиды ---> Очищенные от лишних символов пептиды заданной длины с заданным ак составом, ранее не известные как ПП\n",
        "def purify_peptides(peptides, min_len, max_len, max_per, test_file_name):\n",
        "    test_file = pd.read_csv(test_file_name)\n",
        "    clean_peptides = list()\n",
        "    for pep in peptides:\n",
        "        pep = re.sub(r'[^NDCQEGHIMFSTWYPKARLV]', '', pep)\n",
        "        if min_len <= len(pep) <= max_len:\n",
        "            if pep in test_file['Sequence']:\n",
        "                print('Used in training')\n",
        "            else:\n",
        "                start_dict = ProteinAnalysis(pep).count_amino_acids()\n",
        "                per = max(start_dict.values()) / (len(pep) * 0.01)\n",
        "                if per <= max_per:\n",
        "                    clean_peptides.append(pep)\n",
        "    return list(set(clean_peptides))\n",
        "\n",
        "#Вспомогательный шаг для записи дескрипторов в словарь\n",
        "def create_a_dictionary(feature, parameter):\n",
        "    if len(feature) == 0:\n",
        "        for key in parameter.keys():\n",
        "            feature[key] = [parameter[key]]\n",
        "    else:\n",
        "        if parameter != 0:\n",
        "            for key in parameter.keys():\n",
        "                feature[key].append(parameter[key])\n",
        "        else:\n",
        "            for key in feature.keys():\n",
        "                feature[key].append(0)\n",
        "    return feature\n",
        "\n",
        "#Список отфильтрованных пептидов ---> Дескрипторы\n",
        "def count_descriptors(peptides):\n",
        "    desc_names = ['_ChargeD1025', '_ChargeD1075', '_ChargeD1100', \n",
        "                  '_ChargeD3001', '_ChargeD3100',\n",
        "                  '_NormalizedVDWVD1001', '_NormalizedVDWVD2001',\n",
        "                  '_NormalizedVDWVD2025', '_NormalizedVDWVD2075',\n",
        "                  '_PolarityD1075', '_PolarityD3025',\n",
        "                  '_PolarizabilityD1100',\n",
        "                  '_SecondaryStrD2025', '_SecondaryStrD2075', '_SecondaryStrD2100',\n",
        "                  '_SecondaryStrD3025', '_SecondaryStrD3100',\n",
        "                  '_SolventAccessibilityD3025', '_SolventAccessibilityD3100']\n",
        "    CTD = {}\n",
        "    for pep in peptides:\n",
        "        DesObject = PyPro.GetProDes(pep)\n",
        "        try:\n",
        "            ctd = DesObject.GetCTD()\n",
        "        except ZeroDivisionError:\n",
        "            ctd = 0\n",
        "        CTD = create_a_dictionary(CTD, ctd)\n",
        "    if CTD != {}:\n",
        "        df_desc = pd.DataFrame(CTD)[desc_names].copy()\n",
        "    else:\n",
        "        print('Something went wrong')\n",
        "        return CTD\n",
        "    AMP = GlobalDescriptor(peptides)\n",
        "    AMP.instability_index()\n",
        "    i_index = pd.DataFrame({\"InstabilityInd\": AMP.descriptor.flatten().tolist()})\n",
        "    df_desc = pd.concat([df_desc, i_index], axis = 1)\n",
        "    return df_desc\n",
        "\n",
        "#Список пептидов с дескрипторами ---> Список пептидов с результатом работы алгоритмов ---> Запись результатов в файл\n",
        "def launch_ML_search(peptides, descriptors, name_to_save):\n",
        "    scaler = StandardScaler()\n",
        "    scal_desc = scaler.fit_transform(descriptors)\n",
        "    df_peptides = pd.DataFrame(peptides).rename(columns={0: 'Peptide'})\n",
        "    df_knn = pd.DataFrame(KNN_model.predict_proba(scal_desc)).round(3)\n",
        "    df_xgb = pd.DataFrame(XGB_model.predict_proba(scal_desc)).round(3)\n",
        "    df_rfm = pd.DataFrame(RFM_model.predict_proba(scal_desc)).round(3)\n",
        "    df_animal = pd.concat([df_peptides, df_knn], axis = 1).rename(columns={1: 'CPP_KNN', 0: 'nonCPP_KNN'})\n",
        "    df_animal = pd.concat([df_animal, df_xgb], axis = 1).rename(columns={1: 'CPP_XGB', 0: 'nonCPP_XGB'})\n",
        "    df_animal = pd.concat([df_animal, df_rfm], axis = 1).rename(columns={1: 'CPP_RFM', 0: 'nonCPP_RFM'})\n",
        "    name_to_save = Results_path + name_to_save\n",
        "    #df_animal[(df_animal.CPP_XGB >= 0.5) & (df_animal.CPP_KNN >= 0.5) & (df_animal.CPP_RFM >= 0.5)].to_csv(name_to_save)\n",
        "    df_animal.to_csv(name_to_save)\n",
        "    return df_animal\n",
        "\n",
        "#Список пептидов с результатом работы алгоритмов ---> Список кандидатных CPP пептидов\n",
        "def predict_CPP(df_animal, xgb_limit, knn_limit, rfm_limit):\n",
        "    start_time = time.time()\n",
        "    print('KNN model \\t' + str((df_animal['CPP_KNN'] > knn_limit).sum()))\n",
        "    print('XGB model \\t' + str((df_animal['CPP_XGB'] > xgb_limit).sum()))\n",
        "    print('RF model \\t' + str((df_animal['CPP_RFM'] > rfm_limit).sum()))\n",
        "    df_animal = df_animal[(df_animal.CPP_XGB >= xgb_limit) & (df_animal.CPP_KNN >= knn_limit) & (df_animal.CPP_RFM >= rfm_limit)]\n",
        "    print('KNN + XGB + RFM \\t' + str(len(df_animal)))\n",
        "    #predicted_CPP = df_animal['Peptide']\n",
        "    print('Проникающие пептиды предсказаны за' + time_to_do(start_time, time.time()))\n",
        "    return df_animal\n",
        "\n",
        "#Список пептидов с результатом работы алгоритмов ---> Список кандидатных nonCPP пептидов\n",
        "def predict_nonCPP(df_animal, xgb_limit, knn_limit, rfm_limit):\n",
        "    start_time = time.time()\n",
        "    print('KNN model \\t' + str((df_animal['nonCPP_KNN'] > knn_limit).sum()))\n",
        "    print('XGB model \\t' + str((df_animal['nonCPP_XGB'] > xgb_limit).sum()))\n",
        "    print('RF model \\t' + str((df_animal['nonCPP_RFM'] > rfm_limit).sum()))\n",
        "    df_animal = df_animal[(df_animal.nonCPP_XGB >= xgb_limit) & (df_animal.nonCPP_KNN >= knn_limit) & (df_animal.nonCPP_RFM >= rfm_limit)]\n",
        "    print('KNN + XGB + RFM \\t' + str(len(df_animal)))\n",
        "    #predicted_CPP = df_animal['Peptide']\n",
        "    print('Непроникающие пептиды предсказаны за' + time_to_do(start_time, time.time()))\n",
        "    return df_animal\n",
        "\n",
        "#Время выполнения функции\n",
        "def time_to_do(start, end):\n",
        "    t = end - start\n",
        "    total = '\\t' + str(int(t // 60)) + ' min ' + str(round(t % 60)) + ' sec'\n",
        "    return total\n",
        "\n",
        "#Запуск одной функцией\n",
        "def CPP_search(file_name, flag, min_len, max_len, max_per, CPP_test_file, name_to_save):\n",
        "    start_time = time.time()\n",
        "    animal_sequences = reading_sequences_from_file(file_name)\n",
        "    print('Файл прочитан за' + time_to_do(start_time, time.time()))\n",
        "\n",
        "    if flag:\n",
        "        start_time = time.time()\n",
        "        animal_dict, animal_peptides = proteins_for_peptides(animal_sequences)\n",
        "        print('Белки разделены на пептиды за' + time_to_do(start_time, time.time()))\n",
        "    else:\n",
        "      animal_peptides = animal_sequences\n",
        "\n",
        "    start_time = time.time()\n",
        "    clean_animal_peptides = purify_peptides(animal_peptides, min_len, max_len, max_per, CPP_test_file)\n",
        "    print('Пептиды очищены за' + time_to_do(start_time, time.time()))\n",
        "\n",
        "    start_time = time.time()\n",
        "    df_animal_desc = count_descriptors(clean_animal_peptides)\n",
        "    print('Дескрипторы посчитаны за' + time_to_do(start_time, time.time()))\n",
        "\n",
        "    start_time = time.time()\n",
        "    df_animal = launch_ML_search(clean_animal_peptides, df_animal_desc, name_to_save)\n",
        "    print('Результаты работы алгоритмов получены за' + time_to_do(start_time, time.time()))\n",
        "\n",
        "    return df_animal"
      ],
      "execution_count": null,
      "outputs": []
    },
    {
      "cell_type": "markdown",
      "metadata": {
        "id": "vIbNVUSTlrvx"
      },
      "source": [
        "# Поиск проникающих пептидов"
      ]
    },
    {
      "cell_type": "code",
      "metadata": {
        "colab": {
          "base_uri": "https://localhost:8080/"
        },
        "id": "dumrfk4e2_Z_",
        "outputId": "c7b29290-e071-4a0e-8e52-a62cde9a4123"
      },
      "source": [
        "min_len = 9     #Минимальная длина пептида\n",
        "max_len = 35    #Максимальная длина пептида\n",
        "max_per = 30    #Процент уникальности аминокислот\n",
        "df_animals = dict()\n",
        "organisms = zip(animals, animals_file, animals_result, proteome)\n",
        "for animal, animal_file, animal_result, prot in organisms:\n",
        "    print('\\n\\t', animal)\n",
        "    df_an = CPP_search(animal_file, prot, min_len, max_len, max_per, CPP_test_file, animal_result)\n",
        "    df_animals[animal] = df_an"
      ],
      "execution_count": null,
      "outputs": [
        {
          "output_type": "stream",
          "name": "stdout",
          "text": [
            "\n",
            "\t Spider\n",
            "Файл прочитан за\t0 min 1 sec\n",
            "Белки разделены на пептиды за\t0 min 54 sec\n",
            "Пептиды очищены за\t1 min 17 sec\n",
            "Дескрипторы посчитаны за\t11 min 8 sec\n",
            "Результаты работы алгоритмов получены за за\t3 min 5 sec\n",
            "\n",
            "\t Jellyfish\n",
            "Файл прочитан за\t0 min 0 sec\n",
            "Белки разделены на пептиды за\t0 min 21 sec\n",
            "Пептиды очищены за\t1 min 21 sec\n",
            "Дескрипторы посчитаны за\t11 min 48 sec\n",
            "Результаты работы алгоритмов получены за за\t3 min 11 sec\n",
            "\n",
            "\t Red ant\n",
            "Файл прочитан за\t0 min 1 sec\n",
            "Пептиды очищены за\t0 min 1 sec\n",
            "Дескрипторы посчитаны за\t0 min 1 sec\n",
            "Результаты работы алгоритмов получены за за\t0 min 1 sec\n",
            "\n",
            "\t Honeybee\n",
            "Файл прочитан за\t0 min 2 sec\n",
            "Пептиды очищены за\t0 min 0 sec\n",
            "Дескрипторы посчитаны за\t0 min 0 sec\n",
            "Результаты работы алгоритмов получены за за\t0 min 0 sec\n",
            "\n",
            "\t Snake\n",
            "Файл прочитан за\t0 min 0 sec\n",
            "Пептиды очищены за\t0 min 0 sec\n",
            "Дескрипторы посчитаны за\t0 min 0 sec\n",
            "Результаты работы алгоритмов получены за за\t0 min 0 sec\n",
            "\n",
            "\t leech\n",
            "Файл прочитан за\t0 min 0 sec\n",
            "Пептиды очищены за\t0 min 0 sec\n",
            "Дескрипторы посчитаны за\t0 min 0 sec\n",
            "Результаты работы алгоритмов получены за за\t0 min 0 sec\n"
          ]
        }
      ]
    },
    {
      "cell_type": "markdown",
      "metadata": {
        "id": "A9APL6HH1yav"
      },
      "source": [
        "## Паук-мегаломорф Hadronyche infensa"
      ]
    },
    {
      "cell_type": "code",
      "metadata": {
        "id": "gSUMiQzFYUYE",
        "colab": {
          "base_uri": "https://localhost:8080/",
          "height": 480
        },
        "outputId": "081855a3-6fcf-4f2c-b7b4-37aedc3d100e"
      },
      "source": [
        "xgb_limit = 0.95\n",
        "knn_limit = 0.95\n",
        "rfm_limit = 0.95\n",
        "predict_CPP(df_animals['Spider'], xgb_limit, knn_limit, rfm_limit)"
      ],
      "execution_count": null,
      "outputs": [
        {
          "output_type": "stream",
          "name": "stdout",
          "text": [
            "XGB model \t80357\n",
            "KNN model \t30444\n",
            "RF model \t12\n",
            "XGB + KNN + RFM \t11\n",
            "Проникающие пептиды предсказаны за\t0 min 0 sec\n"
          ]
        },
        {
          "output_type": "execute_result",
          "data": {
            "text/html": [
              "<div>\n",
              "<style scoped>\n",
              "    .dataframe tbody tr th:only-of-type {\n",
              "        vertical-align: middle;\n",
              "    }\n",
              "\n",
              "    .dataframe tbody tr th {\n",
              "        vertical-align: top;\n",
              "    }\n",
              "\n",
              "    .dataframe thead th {\n",
              "        text-align: right;\n",
              "    }\n",
              "</style>\n",
              "<table border=\"1\" class=\"dataframe\">\n",
              "  <thead>\n",
              "    <tr style=\"text-align: right;\">\n",
              "      <th></th>\n",
              "      <th>Peptide</th>\n",
              "      <th>nonCPP_XGB</th>\n",
              "      <th>CPP_XGB</th>\n",
              "      <th>nonCPP_KNN</th>\n",
              "      <th>CPP_KNN</th>\n",
              "      <th>nonCPP_RFM</th>\n",
              "      <th>CPP_RFM</th>\n",
              "    </tr>\n",
              "  </thead>\n",
              "  <tbody>\n",
              "    <tr>\n",
              "      <th>59403</th>\n",
              "      <td>TSYNAALVNGGGVKMPDR</td>\n",
              "      <td>0.004</td>\n",
              "      <td>0.996</td>\n",
              "      <td>0.0</td>\n",
              "      <td>1.0</td>\n",
              "      <td>0.047</td>\n",
              "      <td>0.953</td>\n",
              "    </tr>\n",
              "    <tr>\n",
              "      <th>252989</th>\n",
              "      <td>QPGCVWILTSTASMGHKAMSAKNSAE</td>\n",
              "      <td>0.010</td>\n",
              "      <td>0.990</td>\n",
              "      <td>0.0</td>\n",
              "      <td>1.0</td>\n",
              "      <td>0.047</td>\n",
              "      <td>0.953</td>\n",
              "    </tr>\n",
              "    <tr>\n",
              "      <th>289068</th>\n",
              "      <td>NSPICPALSGKGAPDPDAEDAR</td>\n",
              "      <td>0.006</td>\n",
              "      <td>0.994</td>\n",
              "      <td>0.0</td>\n",
              "      <td>1.0</td>\n",
              "      <td>0.044</td>\n",
              "      <td>0.956</td>\n",
              "    </tr>\n",
              "    <tr>\n",
              "      <th>399730</th>\n",
              "      <td>WSPQIGSMLTNSYRPLAEHGR</td>\n",
              "      <td>0.002</td>\n",
              "      <td>0.998</td>\n",
              "      <td>0.0</td>\n",
              "      <td>1.0</td>\n",
              "      <td>0.047</td>\n",
              "      <td>0.953</td>\n",
              "    </tr>\n",
              "    <tr>\n",
              "      <th>400888</th>\n",
              "      <td>SQLSTLGNLGGSPKDQADR</td>\n",
              "      <td>0.006</td>\n",
              "      <td>0.994</td>\n",
              "      <td>0.0</td>\n",
              "      <td>1.0</td>\n",
              "      <td>0.047</td>\n",
              "      <td>0.953</td>\n",
              "    </tr>\n",
              "    <tr>\n",
              "      <th>415797</th>\n",
              "      <td>SHCRPPHGAEGHR</td>\n",
              "      <td>0.001</td>\n",
              "      <td>0.999</td>\n",
              "      <td>0.0</td>\n",
              "      <td>1.0</td>\n",
              "      <td>0.044</td>\n",
              "      <td>0.956</td>\n",
              "    </tr>\n",
              "    <tr>\n",
              "      <th>523602</th>\n",
              "      <td>CHSVSMGLTNQKVHSDR</td>\n",
              "      <td>0.002</td>\n",
              "      <td>0.998</td>\n",
              "      <td>0.0</td>\n",
              "      <td>1.0</td>\n",
              "      <td>0.041</td>\n",
              "      <td>0.959</td>\n",
              "    </tr>\n",
              "    <tr>\n",
              "      <th>537441</th>\n",
              "      <td>PQICSINTDAMKSRL</td>\n",
              "      <td>0.004</td>\n",
              "      <td>0.996</td>\n",
              "      <td>0.0</td>\n",
              "      <td>1.0</td>\n",
              "      <td>0.044</td>\n",
              "      <td>0.956</td>\n",
              "    </tr>\n",
              "    <tr>\n",
              "      <th>576375</th>\n",
              "      <td>PQPRVTGLAESAGK</td>\n",
              "      <td>0.005</td>\n",
              "      <td>0.995</td>\n",
              "      <td>0.0</td>\n",
              "      <td>1.0</td>\n",
              "      <td>0.047</td>\n",
              "      <td>0.953</td>\n",
              "    </tr>\n",
              "    <tr>\n",
              "      <th>824290</th>\n",
              "      <td>SWQGSAVVSIDSKRARAAS</td>\n",
              "      <td>0.003</td>\n",
              "      <td>0.997</td>\n",
              "      <td>0.0</td>\n",
              "      <td>1.0</td>\n",
              "      <td>0.037</td>\n",
              "      <td>0.963</td>\n",
              "    </tr>\n",
              "    <tr>\n",
              "      <th>848170</th>\n",
              "      <td>TNQCNPTHKPTGPGHDAGYHGAGTK</td>\n",
              "      <td>0.001</td>\n",
              "      <td>0.999</td>\n",
              "      <td>0.0</td>\n",
              "      <td>1.0</td>\n",
              "      <td>0.037</td>\n",
              "      <td>0.963</td>\n",
              "    </tr>\n",
              "  </tbody>\n",
              "</table>\n",
              "</div>"
            ],
            "text/plain": [
              "                           Peptide  nonCPP_XGB  ...  nonCPP_RFM  CPP_RFM\n",
              "59403           TSYNAALVNGGGVKMPDR       0.004  ...       0.047    0.953\n",
              "252989  QPGCVWILTSTASMGHKAMSAKNSAE       0.010  ...       0.047    0.953\n",
              "289068      NSPICPALSGKGAPDPDAEDAR       0.006  ...       0.044    0.956\n",
              "399730       WSPQIGSMLTNSYRPLAEHGR       0.002  ...       0.047    0.953\n",
              "400888         SQLSTLGNLGGSPKDQADR       0.006  ...       0.047    0.953\n",
              "415797               SHCRPPHGAEGHR       0.001  ...       0.044    0.956\n",
              "523602           CHSVSMGLTNQKVHSDR       0.002  ...       0.041    0.959\n",
              "537441             PQICSINTDAMKSRL       0.004  ...       0.044    0.956\n",
              "576375              PQPRVTGLAESAGK       0.005  ...       0.047    0.953\n",
              "824290         SWQGSAVVSIDSKRARAAS       0.003  ...       0.037    0.963\n",
              "848170   TNQCNPTHKPTGPGHDAGYHGAGTK       0.001  ...       0.037    0.963\n",
              "\n",
              "[11 rows x 7 columns]"
            ]
          },
          "metadata": {},
          "execution_count": 47
        }
      ]
    },
    {
      "cell_type": "code",
      "metadata": {
        "colab": {
          "base_uri": "https://localhost:8080/",
          "height": 168
        },
        "id": "P9bmGMPTsk1H",
        "outputId": "f1ce3502-e05f-43a9-b931-e8a9d1a65cfb"
      },
      "source": [
        "xgb_limit = 0.0\n",
        "knn_limit = 0.0\n",
        "rfm_limit = 0.0\n",
        "pred = predict_CPP(df_animals['Spider'], xgb_limit, knn_limit, rfm_limit)\n",
        "pred[pred['Peptide'] == 'CRYFHYRQKKHWQL']"
      ],
      "execution_count": null,
      "outputs": [
        {
          "output_type": "stream",
          "name": "stdout",
          "text": [
            "KNN model \t1075083\n",
            "XGB model \t1119698\n",
            "RF model \t1119699\n",
            "KNN + XGB + RFM \t1119699\n",
            "Проникающие пептиды предсказаны за\t0 min 0 sec\n"
          ]
        },
        {
          "output_type": "execute_result",
          "data": {
            "text/html": [
              "<div>\n",
              "<style scoped>\n",
              "    .dataframe tbody tr th:only-of-type {\n",
              "        vertical-align: middle;\n",
              "    }\n",
              "\n",
              "    .dataframe tbody tr th {\n",
              "        vertical-align: top;\n",
              "    }\n",
              "\n",
              "    .dataframe thead th {\n",
              "        text-align: right;\n",
              "    }\n",
              "</style>\n",
              "<table border=\"1\" class=\"dataframe\">\n",
              "  <thead>\n",
              "    <tr style=\"text-align: right;\">\n",
              "      <th></th>\n",
              "      <th>Peptide</th>\n",
              "      <th>nonCPP_XGB</th>\n",
              "      <th>CPP_XGB</th>\n",
              "      <th>nonCPP_KNN</th>\n",
              "      <th>CPP_KNN</th>\n",
              "      <th>nonCPP_RFM</th>\n",
              "      <th>CPP_RFM</th>\n",
              "    </tr>\n",
              "  </thead>\n",
              "  <tbody>\n",
              "    <tr>\n",
              "      <th>843269</th>\n",
              "      <td>CRYFHYRQKKHWQL</td>\n",
              "      <td>0.469</td>\n",
              "      <td>0.531</td>\n",
              "      <td>0.222</td>\n",
              "      <td>0.778</td>\n",
              "      <td>0.39</td>\n",
              "      <td>0.61</td>\n",
              "    </tr>\n",
              "  </tbody>\n",
              "</table>\n",
              "</div>"
            ],
            "text/plain": [
              "               Peptide  nonCPP_XGB  CPP_XGB  ...  CPP_KNN  nonCPP_RFM  CPP_RFM\n",
              "843269  CRYFHYRQKKHWQL       0.469    0.531  ...    0.778        0.39     0.61\n",
              "\n",
              "[1 rows x 7 columns]"
            ]
          },
          "metadata": {},
          "execution_count": 89
        }
      ]
    },
    {
      "cell_type": "markdown",
      "metadata": {
        "id": "PHqc9LkrLTDw"
      },
      "source": [
        "## Медузы ропилема Rhopilema esculentum и амакуза Sanderia malayensis"
      ]
    },
    {
      "cell_type": "code",
      "metadata": {
        "id": "sOq4kzZnLklq",
        "colab": {
          "base_uri": "https://localhost:8080/",
          "height": 293
        },
        "outputId": "2f3a6f98-d21b-4d6a-d7bc-dfcfbac8f550"
      },
      "source": [
        "xgb_limit = 0.95\n",
        "knn_limit = 0.95\n",
        "rfm_limit = 0.95\n",
        "predict_CPP(df_animals['Jellyfish'], xgb_limit, knn_limit, rfm_limit)"
      ],
      "execution_count": null,
      "outputs": [
        {
          "output_type": "stream",
          "name": "stdout",
          "text": [
            "KNN model \t31136\n",
            "XGB model \t81667\n",
            "RF model \t6\n",
            "KNN + XGB + RFM \t5\n",
            "Проникающие пептиды предсказаны за\t0 min 0 sec\n"
          ]
        },
        {
          "output_type": "execute_result",
          "data": {
            "text/html": [
              "<div>\n",
              "<style scoped>\n",
              "    .dataframe tbody tr th:only-of-type {\n",
              "        vertical-align: middle;\n",
              "    }\n",
              "\n",
              "    .dataframe tbody tr th {\n",
              "        vertical-align: top;\n",
              "    }\n",
              "\n",
              "    .dataframe thead th {\n",
              "        text-align: right;\n",
              "    }\n",
              "</style>\n",
              "<table border=\"1\" class=\"dataframe\">\n",
              "  <thead>\n",
              "    <tr style=\"text-align: right;\">\n",
              "      <th></th>\n",
              "      <th>Peptide</th>\n",
              "      <th>nonCPP_XGB</th>\n",
              "      <th>CPP_XGB</th>\n",
              "      <th>nonCPP_KNN</th>\n",
              "      <th>CPP_KNN</th>\n",
              "      <th>nonCPP_RFM</th>\n",
              "      <th>CPP_RFM</th>\n",
              "    </tr>\n",
              "  </thead>\n",
              "  <tbody>\n",
              "    <tr>\n",
              "      <th>69067</th>\n",
              "      <td>SYQWQIFYRSLDGSGAKE</td>\n",
              "      <td>0.005</td>\n",
              "      <td>0.995</td>\n",
              "      <td>0.0</td>\n",
              "      <td>1.0</td>\n",
              "      <td>0.041</td>\n",
              "      <td>0.959</td>\n",
              "    </tr>\n",
              "    <tr>\n",
              "      <th>422503</th>\n",
              "      <td>CQNTQVNISNQHRPAKMDGK</td>\n",
              "      <td>0.005</td>\n",
              "      <td>0.995</td>\n",
              "      <td>0.0</td>\n",
              "      <td>1.0</td>\n",
              "      <td>0.041</td>\n",
              "      <td>0.959</td>\n",
              "    </tr>\n",
              "    <tr>\n",
              "      <th>633258</th>\n",
              "      <td>SHSLGKAPDGSGR</td>\n",
              "      <td>0.002</td>\n",
              "      <td>0.998</td>\n",
              "      <td>0.0</td>\n",
              "      <td>1.0</td>\n",
              "      <td>0.034</td>\n",
              "      <td>0.966</td>\n",
              "    </tr>\n",
              "    <tr>\n",
              "      <th>643661</th>\n",
              "      <td>TVANFKTNSAAPPAAEPPR</td>\n",
              "      <td>0.003</td>\n",
              "      <td>0.997</td>\n",
              "      <td>0.0</td>\n",
              "      <td>1.0</td>\n",
              "      <td>0.044</td>\n",
              "      <td>0.956</td>\n",
              "    </tr>\n",
              "    <tr>\n",
              "      <th>716405</th>\n",
              "      <td>TNHNYVRFHHSHHQQDDGDGK</td>\n",
              "      <td>0.004</td>\n",
              "      <td>0.996</td>\n",
              "      <td>0.0</td>\n",
              "      <td>1.0</td>\n",
              "      <td>0.034</td>\n",
              "      <td>0.966</td>\n",
              "    </tr>\n",
              "  </tbody>\n",
              "</table>\n",
              "</div>"
            ],
            "text/plain": [
              "                      Peptide  nonCPP_XGB  ...  nonCPP_RFM  CPP_RFM\n",
              "69067      SYQWQIFYRSLDGSGAKE       0.005  ...       0.041    0.959\n",
              "422503   CQNTQVNISNQHRPAKMDGK       0.005  ...       0.041    0.959\n",
              "633258          SHSLGKAPDGSGR       0.002  ...       0.034    0.966\n",
              "643661    TVANFKTNSAAPPAAEPPR       0.003  ...       0.044    0.956\n",
              "716405  TNHNYVRFHHSHHQQDDGDGK       0.004  ...       0.034    0.966\n",
              "\n",
              "[5 rows x 7 columns]"
            ]
          },
          "metadata": {},
          "execution_count": 75
        }
      ]
    },
    {
      "cell_type": "markdown",
      "metadata": {
        "id": "8cx2Lgnk12Ip"
      },
      "source": [
        "## Красный муравей Manica rubida"
      ]
    },
    {
      "cell_type": "code",
      "metadata": {
        "id": "HEsACiTF12T7",
        "colab": {
          "base_uri": "https://localhost:8080/",
          "height": 262
        },
        "outputId": "ed4d5827-86e3-4e4d-ddd4-7abaee5bf25c"
      },
      "source": [
        "xgb_limit = 0.95\n",
        "knn_limit = 0.95\n",
        "rfm_limit = 0.85\n",
        "predict_CPP(df_animals['Red ant'], xgb_limit, knn_limit, rfm_limit)"
      ],
      "execution_count": null,
      "outputs": [
        {
          "output_type": "stream",
          "name": "stdout",
          "text": [
            "XGB model \t197\n",
            "KNN model \t45\n",
            "RF model \t4\n",
            "XGB + KNN + RFM \t4\n",
            "Проникающие пептиды предсказаны за\t0 min 0 sec\n"
          ]
        },
        {
          "output_type": "execute_result",
          "data": {
            "text/html": [
              "<div>\n",
              "<style scoped>\n",
              "    .dataframe tbody tr th:only-of-type {\n",
              "        vertical-align: middle;\n",
              "    }\n",
              "\n",
              "    .dataframe tbody tr th {\n",
              "        vertical-align: top;\n",
              "    }\n",
              "\n",
              "    .dataframe thead th {\n",
              "        text-align: right;\n",
              "    }\n",
              "</style>\n",
              "<table border=\"1\" class=\"dataframe\">\n",
              "  <thead>\n",
              "    <tr style=\"text-align: right;\">\n",
              "      <th></th>\n",
              "      <th>Peptide</th>\n",
              "      <th>nonCPP_XGB</th>\n",
              "      <th>CPP_XGB</th>\n",
              "      <th>nonCPP_KNN</th>\n",
              "      <th>CPP_KNN</th>\n",
              "      <th>nonCPP_RFM</th>\n",
              "      <th>CPP_RFM</th>\n",
              "    </tr>\n",
              "  </thead>\n",
              "  <tbody>\n",
              "    <tr>\n",
              "      <th>1342</th>\n",
              "      <td>HTGSLLAVVSLLLLKLVAPAAAEVLAGGKLP</td>\n",
              "      <td>0.004</td>\n",
              "      <td>0.996</td>\n",
              "      <td>0.0</td>\n",
              "      <td>1.0</td>\n",
              "      <td>0.112</td>\n",
              "      <td>0.888</td>\n",
              "    </tr>\n",
              "    <tr>\n",
              "      <th>1481</th>\n",
              "      <td>PTPAQKALTMLTMLLALLPVPACLEAEKYG</td>\n",
              "      <td>0.010</td>\n",
              "      <td>0.990</td>\n",
              "      <td>0.0</td>\n",
              "      <td>1.0</td>\n",
              "      <td>0.108</td>\n",
              "      <td>0.892</td>\n",
              "    </tr>\n",
              "    <tr>\n",
              "      <th>2546</th>\n",
              "      <td>PKGVTGAAAAPVVKLLKAAVAPDPLGKAPQ</td>\n",
              "      <td>0.002</td>\n",
              "      <td>0.998</td>\n",
              "      <td>0.0</td>\n",
              "      <td>1.0</td>\n",
              "      <td>0.146</td>\n",
              "      <td>0.854</td>\n",
              "    </tr>\n",
              "    <tr>\n",
              "      <th>2643</th>\n",
              "      <td>PQAVLFVLLKLLLKVAPAAAEVKGHS</td>\n",
              "      <td>0.002</td>\n",
              "      <td>0.998</td>\n",
              "      <td>0.0</td>\n",
              "      <td>1.0</td>\n",
              "      <td>0.051</td>\n",
              "      <td>0.949</td>\n",
              "    </tr>\n",
              "  </tbody>\n",
              "</table>\n",
              "</div>"
            ],
            "text/plain": [
              "                              Peptide  nonCPP_XGB  ...  nonCPP_RFM  CPP_RFM\n",
              "1342  HTGSLLAVVSLLLLKLVAPAAAEVLAGGKLP       0.004  ...       0.112    0.888\n",
              "1481   PTPAQKALTMLTMLLALLPVPACLEAEKYG       0.010  ...       0.108    0.892\n",
              "2546   PKGVTGAAAAPVVKLLKAAVAPDPLGKAPQ       0.002  ...       0.146    0.854\n",
              "2643       PQAVLFVLLKLLLKVAPAAAEVKGHS       0.002  ...       0.051    0.949\n",
              "\n",
              "[4 rows x 7 columns]"
            ]
          },
          "metadata": {},
          "execution_count": 54
        }
      ]
    },
    {
      "cell_type": "code",
      "metadata": {
        "colab": {
          "base_uri": "https://localhost:8080/",
          "height": 168
        },
        "id": "9twWVrSQt7HQ",
        "outputId": "ed6a9b1f-3e13-4a20-cb47-7281e2519e13"
      },
      "source": [
        "xgb_limit = 0.0\n",
        "knn_limit = 0.0\n",
        "rfm_limit = 0.0\n",
        "pred = predict_CPP(df_animals['Red ant'], xgb_limit, knn_limit, rfm_limit)\n",
        "#pred[pred['Peptide'] == 'KHLKHTPVWWY']\n",
        "pred[pred['Peptide'] == 'RGSLLAKAALKRS']"
      ],
      "execution_count": null,
      "outputs": [
        {
          "output_type": "stream",
          "name": "stdout",
          "text": [
            "KNN model \t2657\n",
            "XGB model \t2760\n",
            "RF model \t2760\n",
            "KNN + XGB + RFM \t2760\n",
            "Проникающие пептиды предсказаны за\t0 min 0 sec\n"
          ]
        },
        {
          "output_type": "execute_result",
          "data": {
            "text/html": [
              "<div>\n",
              "<style scoped>\n",
              "    .dataframe tbody tr th:only-of-type {\n",
              "        vertical-align: middle;\n",
              "    }\n",
              "\n",
              "    .dataframe tbody tr th {\n",
              "        vertical-align: top;\n",
              "    }\n",
              "\n",
              "    .dataframe thead th {\n",
              "        text-align: right;\n",
              "    }\n",
              "</style>\n",
              "<table border=\"1\" class=\"dataframe\">\n",
              "  <thead>\n",
              "    <tr style=\"text-align: right;\">\n",
              "      <th></th>\n",
              "      <th>Peptide</th>\n",
              "      <th>nonCPP_XGB</th>\n",
              "      <th>CPP_XGB</th>\n",
              "      <th>nonCPP_KNN</th>\n",
              "      <th>CPP_KNN</th>\n",
              "      <th>nonCPP_RFM</th>\n",
              "      <th>CPP_RFM</th>\n",
              "    </tr>\n",
              "  </thead>\n",
              "  <tbody>\n",
              "    <tr>\n",
              "      <th>1326</th>\n",
              "      <td>RGSLLAKAALKRS</td>\n",
              "      <td>0.609</td>\n",
              "      <td>0.391</td>\n",
              "      <td>0.333</td>\n",
              "      <td>0.667</td>\n",
              "      <td>0.471</td>\n",
              "      <td>0.529</td>\n",
              "    </tr>\n",
              "  </tbody>\n",
              "</table>\n",
              "</div>"
            ],
            "text/plain": [
              "            Peptide  nonCPP_XGB  CPP_XGB  ...  CPP_KNN  nonCPP_RFM  CPP_RFM\n",
              "1326  RGSLLAKAALKRS       0.609    0.391  ...    0.667       0.471    0.529\n",
              "\n",
              "[1 rows x 7 columns]"
            ]
          },
          "metadata": {},
          "execution_count": 99
        }
      ]
    },
    {
      "cell_type": "markdown",
      "metadata": {
        "id": "FwjgLm1zLO_Y"
      },
      "source": [
        "## Медоносная пчела Apis mellifera"
      ]
    },
    {
      "cell_type": "code",
      "metadata": {
        "id": "pXBquCErLdxv",
        "colab": {
          "base_uri": "https://localhost:8080/",
          "height": 199
        },
        "outputId": "eaaa1e1a-449a-4c23-950d-8e1f8c4b4be4"
      },
      "source": [
        "xgb_limit = 0.95\n",
        "knn_limit = 0.95\n",
        "rfm_limit = 0.70\n",
        "predict_CPP(df_animals['Honeybee'], xgb_limit, knn_limit, rfm_limit)"
      ],
      "execution_count": null,
      "outputs": [
        {
          "output_type": "stream",
          "name": "stdout",
          "text": [
            "XGB model \t32\n",
            "KNN model \t6\n",
            "RF model \t17\n",
            "XGB + KNN + RFM \t2\n",
            "Проникающие пептиды предсказаны за\t0 min 0 sec\n"
          ]
        },
        {
          "output_type": "execute_result",
          "data": {
            "text/html": [
              "<div>\n",
              "<style scoped>\n",
              "    .dataframe tbody tr th:only-of-type {\n",
              "        vertical-align: middle;\n",
              "    }\n",
              "\n",
              "    .dataframe tbody tr th {\n",
              "        vertical-align: top;\n",
              "    }\n",
              "\n",
              "    .dataframe thead th {\n",
              "        text-align: right;\n",
              "    }\n",
              "</style>\n",
              "<table border=\"1\" class=\"dataframe\">\n",
              "  <thead>\n",
              "    <tr style=\"text-align: right;\">\n",
              "      <th></th>\n",
              "      <th>Peptide</th>\n",
              "      <th>nonCPP_XGB</th>\n",
              "      <th>CPP_XGB</th>\n",
              "      <th>nonCPP_KNN</th>\n",
              "      <th>CPP_KNN</th>\n",
              "      <th>nonCPP_RFM</th>\n",
              "      <th>CPP_RFM</th>\n",
              "    </tr>\n",
              "  </thead>\n",
              "  <tbody>\n",
              "    <tr>\n",
              "      <th>4</th>\n",
              "      <td>CLHYTVDKSKPK</td>\n",
              "      <td>0.007</td>\n",
              "      <td>0.993</td>\n",
              "      <td>0.0</td>\n",
              "      <td>1.0</td>\n",
              "      <td>0.203</td>\n",
              "      <td>0.797</td>\n",
              "    </tr>\n",
              "    <tr>\n",
              "      <th>358</th>\n",
              "      <td>SVCPPQLLVFDLNTSQLLK</td>\n",
              "      <td>0.002</td>\n",
              "      <td>0.998</td>\n",
              "      <td>0.0</td>\n",
              "      <td>1.0</td>\n",
              "      <td>0.224</td>\n",
              "      <td>0.776</td>\n",
              "    </tr>\n",
              "  </tbody>\n",
              "</table>\n",
              "</div>"
            ],
            "text/plain": [
              "                 Peptide  nonCPP_XGB  CPP_XGB  ...  CPP_KNN  nonCPP_RFM  CPP_RFM\n",
              "4           CLHYTVDKSKPK       0.007    0.993  ...      1.0       0.203    0.797\n",
              "358  SVCPPQLLVFDLNTSQLLK       0.002    0.998  ...      1.0       0.224    0.776\n",
              "\n",
              "[2 rows x 7 columns]"
            ]
          },
          "metadata": {},
          "execution_count": 59
        }
      ]
    },
    {
      "cell_type": "markdown",
      "metadata": {
        "id": "U2vsjETuLS4L"
      },
      "source": [
        "## Королевская кобра Ophiophagus hannah"
      ]
    },
    {
      "cell_type": "code",
      "metadata": {
        "id": "Hjlri7OELj-_",
        "colab": {
          "base_uri": "https://localhost:8080/",
          "height": 199
        },
        "outputId": "109c959a-ecda-4385-a01f-cbfec236a286"
      },
      "source": [
        "xgb_limit = 0.90\n",
        "knn_limit = 0.90\n",
        "rfm_limit = 0.70\n",
        "predict_CPP(df_animals['Snake'], xgb_limit, knn_limit, rfm_limit)"
      ],
      "execution_count": null,
      "outputs": [
        {
          "output_type": "stream",
          "name": "stdout",
          "text": [
            "KNN model \t14\n",
            "XGB model \t19\n",
            "RF model \t8\n",
            "KNN + XGB + RFM \t2\n",
            "Проникающие пептиды предсказаны за\t0 min 0 sec\n"
          ]
        },
        {
          "output_type": "execute_result",
          "data": {
            "text/html": [
              "<div>\n",
              "<style scoped>\n",
              "    .dataframe tbody tr th:only-of-type {\n",
              "        vertical-align: middle;\n",
              "    }\n",
              "\n",
              "    .dataframe tbody tr th {\n",
              "        vertical-align: top;\n",
              "    }\n",
              "\n",
              "    .dataframe thead th {\n",
              "        text-align: right;\n",
              "    }\n",
              "</style>\n",
              "<table border=\"1\" class=\"dataframe\">\n",
              "  <thead>\n",
              "    <tr style=\"text-align: right;\">\n",
              "      <th></th>\n",
              "      <th>Peptide</th>\n",
              "      <th>nonCPP_XGB</th>\n",
              "      <th>CPP_XGB</th>\n",
              "      <th>nonCPP_KNN</th>\n",
              "      <th>CPP_KNN</th>\n",
              "      <th>nonCPP_RFM</th>\n",
              "      <th>CPP_RFM</th>\n",
              "    </tr>\n",
              "  </thead>\n",
              "  <tbody>\n",
              "    <tr>\n",
              "      <th>35</th>\n",
              "      <td>RAVTIFGESAGAASVGMHLLSTQSRA</td>\n",
              "      <td>0.015</td>\n",
              "      <td>0.985</td>\n",
              "      <td>0.056</td>\n",
              "      <td>0.944</td>\n",
              "      <td>0.20</td>\n",
              "      <td>0.80</td>\n",
              "    </tr>\n",
              "    <tr>\n",
              "      <th>248</th>\n",
              "      <td>KTWHMVYPGGYDHTRG</td>\n",
              "      <td>0.002</td>\n",
              "      <td>0.998</td>\n",
              "      <td>0.000</td>\n",
              "      <td>1.000</td>\n",
              "      <td>0.19</td>\n",
              "      <td>0.81</td>\n",
              "    </tr>\n",
              "  </tbody>\n",
              "</table>\n",
              "</div>"
            ],
            "text/plain": [
              "                        Peptide  nonCPP_XGB  ...  nonCPP_RFM  CPP_RFM\n",
              "35   RAVTIFGESAGAASVGMHLLSTQSRA       0.015  ...        0.20     0.80\n",
              "248            KTWHMVYPGGYDHTRG       0.002  ...        0.19     0.81\n",
              "\n",
              "[2 rows x 7 columns]"
            ]
          },
          "metadata": {},
          "execution_count": 78
        }
      ]
    },
    {
      "cell_type": "code",
      "metadata": {
        "colab": {
          "base_uri": "https://localhost:8080/",
          "height": 168
        },
        "id": "P7Mehc7futd6",
        "outputId": "b8effa90-54e2-4118-f20f-c405833f2f48"
      },
      "source": [
        "xgb_limit = 0.0\n",
        "knn_limit = 0.0\n",
        "rfm_limit = 0.0\n",
        "pred = predict_CPP(df_animals['Snake'], xgb_limit, knn_limit, rfm_limit)\n",
        "pred[pred['Peptide'] == 'REKDLLPRK']"
      ],
      "execution_count": null,
      "outputs": [
        {
          "output_type": "stream",
          "name": "stdout",
          "text": [
            "KNN model \t238\n",
            "XGB model \t252\n",
            "RF model \t252\n",
            "KNN + XGB + RFM \t252\n",
            "Проникающие пептиды предсказаны за\t0 min 0 sec\n"
          ]
        },
        {
          "output_type": "execute_result",
          "data": {
            "text/html": [
              "<div>\n",
              "<style scoped>\n",
              "    .dataframe tbody tr th:only-of-type {\n",
              "        vertical-align: middle;\n",
              "    }\n",
              "\n",
              "    .dataframe tbody tr th {\n",
              "        vertical-align: top;\n",
              "    }\n",
              "\n",
              "    .dataframe thead th {\n",
              "        text-align: right;\n",
              "    }\n",
              "</style>\n",
              "<table border=\"1\" class=\"dataframe\">\n",
              "  <thead>\n",
              "    <tr style=\"text-align: right;\">\n",
              "      <th></th>\n",
              "      <th>Peptide</th>\n",
              "      <th>nonCPP_XGB</th>\n",
              "      <th>CPP_XGB</th>\n",
              "      <th>nonCPP_KNN</th>\n",
              "      <th>CPP_KNN</th>\n",
              "      <th>nonCPP_RFM</th>\n",
              "      <th>CPP_RFM</th>\n",
              "    </tr>\n",
              "  </thead>\n",
              "  <tbody>\n",
              "    <tr>\n",
              "      <th>115</th>\n",
              "      <td>REKDLLPRK</td>\n",
              "      <td>0.972</td>\n",
              "      <td>0.028</td>\n",
              "      <td>0.944</td>\n",
              "      <td>0.056</td>\n",
              "      <td>0.671</td>\n",
              "      <td>0.329</td>\n",
              "    </tr>\n",
              "  </tbody>\n",
              "</table>\n",
              "</div>"
            ],
            "text/plain": [
              "       Peptide  nonCPP_XGB  CPP_XGB  nonCPP_KNN  CPP_KNN  nonCPP_RFM  CPP_RFM\n",
              "115  REKDLLPRK       0.972    0.028       0.944    0.056       0.671    0.329"
            ]
          },
          "metadata": {},
          "execution_count": 95
        }
      ]
    },
    {
      "cell_type": "markdown",
      "metadata": {
        "id": "OpKXAyKtLTIt"
      },
      "source": [
        "## Медицинская пиявка Hirudo medicinalis"
      ]
    },
    {
      "cell_type": "code",
      "metadata": {
        "id": "joYTKlyeLlTa",
        "colab": {
          "base_uri": "https://localhost:8080/",
          "height": 231
        },
        "outputId": "3a252afb-c21f-4de4-8e0a-bd5b73810c59"
      },
      "source": [
        "xgb_limit = 0.95\n",
        "knn_limit = 0.87\n",
        "rfm_limit = 0.70\n",
        "predict_CPP(df_animals['leech'], xgb_limit, knn_limit, rfm_limit)"
      ],
      "execution_count": null,
      "outputs": [
        {
          "output_type": "stream",
          "name": "stdout",
          "text": [
            "XGB model \t24\n",
            "KNN model \t17\n",
            "RF model \t14\n",
            "XGB + KNN + RFM \t3\n",
            "Проникающие пептиды предсказаны за\t0 min 0 sec\n"
          ]
        },
        {
          "output_type": "execute_result",
          "data": {
            "text/html": [
              "<div>\n",
              "<style scoped>\n",
              "    .dataframe tbody tr th:only-of-type {\n",
              "        vertical-align: middle;\n",
              "    }\n",
              "\n",
              "    .dataframe tbody tr th {\n",
              "        vertical-align: top;\n",
              "    }\n",
              "\n",
              "    .dataframe thead th {\n",
              "        text-align: right;\n",
              "    }\n",
              "</style>\n",
              "<table border=\"1\" class=\"dataframe\">\n",
              "  <thead>\n",
              "    <tr style=\"text-align: right;\">\n",
              "      <th></th>\n",
              "      <th>Peptide</th>\n",
              "      <th>nonCPP_XGB</th>\n",
              "      <th>CPP_XGB</th>\n",
              "      <th>nonCPP_KNN</th>\n",
              "      <th>CPP_KNN</th>\n",
              "      <th>nonCPP_RFM</th>\n",
              "      <th>CPP_RFM</th>\n",
              "    </tr>\n",
              "  </thead>\n",
              "  <tbody>\n",
              "    <tr>\n",
              "      <th>35</th>\n",
              "      <td>AIRNDEELNK</td>\n",
              "      <td>0.023</td>\n",
              "      <td>0.977</td>\n",
              "      <td>0.111</td>\n",
              "      <td>0.889</td>\n",
              "      <td>0.200</td>\n",
              "      <td>0.800</td>\n",
              "    </tr>\n",
              "    <tr>\n",
              "      <th>140</th>\n",
              "      <td>SKAADESER</td>\n",
              "      <td>0.008</td>\n",
              "      <td>0.992</td>\n",
              "      <td>0.056</td>\n",
              "      <td>0.944</td>\n",
              "      <td>0.180</td>\n",
              "      <td>0.820</td>\n",
              "    </tr>\n",
              "    <tr>\n",
              "      <th>264</th>\n",
              "      <td>ALVVDNGSGMCKAGFAGDDAPR</td>\n",
              "      <td>0.007</td>\n",
              "      <td>0.993</td>\n",
              "      <td>0.111</td>\n",
              "      <td>0.889</td>\n",
              "      <td>0.183</td>\n",
              "      <td>0.817</td>\n",
              "    </tr>\n",
              "  </tbody>\n",
              "</table>\n",
              "</div>"
            ],
            "text/plain": [
              "                    Peptide  nonCPP_XGB  CPP_XGB  ...  CPP_KNN  nonCPP_RFM  CPP_RFM\n",
              "35               AIRNDEELNK       0.023    0.977  ...    0.889       0.200    0.800\n",
              "140               SKAADESER       0.008    0.992  ...    0.944       0.180    0.820\n",
              "264  ALVVDNGSGMCKAGFAGDDAPR       0.007    0.993  ...    0.889       0.183    0.817\n",
              "\n",
              "[3 rows x 7 columns]"
            ]
          },
          "metadata": {},
          "execution_count": 67
        }
      ]
    },
    {
      "cell_type": "code",
      "metadata": {
        "colab": {
          "base_uri": "https://localhost:8080/",
          "height": 199
        },
        "id": "23VCQ_p68NBA",
        "outputId": "f206503a-d403-4e4a-dee7-10de3747f10b"
      },
      "source": [
        "#nonCPP\n",
        "xgb_limit = 0.95\n",
        "knn_limit = 0.95\n",
        "rfm_limit = 0.65\n",
        "predict_nonCPP(df_animals['leech'], xgb_limit, knn_limit, rfm_limit)"
      ],
      "execution_count": null,
      "outputs": [
        {
          "output_type": "stream",
          "name": "stdout",
          "text": [
            "XGB model \t18\n",
            "KNN model \t9\n",
            "RF model \t54\n",
            "XGB + KNN + RFM \t2\n",
            "Непроникающие пептиды предсказаны за\t0 min 0 sec\n"
          ]
        },
        {
          "output_type": "execute_result",
          "data": {
            "text/html": [
              "<div>\n",
              "<style scoped>\n",
              "    .dataframe tbody tr th:only-of-type {\n",
              "        vertical-align: middle;\n",
              "    }\n",
              "\n",
              "    .dataframe tbody tr th {\n",
              "        vertical-align: top;\n",
              "    }\n",
              "\n",
              "    .dataframe thead th {\n",
              "        text-align: right;\n",
              "    }\n",
              "</style>\n",
              "<table border=\"1\" class=\"dataframe\">\n",
              "  <thead>\n",
              "    <tr style=\"text-align: right;\">\n",
              "      <th></th>\n",
              "      <th>Peptide</th>\n",
              "      <th>nonCPP_XGB</th>\n",
              "      <th>CPP_XGB</th>\n",
              "      <th>nonCPP_KNN</th>\n",
              "      <th>CPP_KNN</th>\n",
              "      <th>nonCPP_RFM</th>\n",
              "      <th>CPP_RFM</th>\n",
              "    </tr>\n",
              "  </thead>\n",
              "  <tbody>\n",
              "    <tr>\n",
              "      <th>9</th>\n",
              "      <td>DLLSGVLGGVDN</td>\n",
              "      <td>0.960</td>\n",
              "      <td>0.040</td>\n",
              "      <td>1.0</td>\n",
              "      <td>0.0</td>\n",
              "      <td>0.715</td>\n",
              "      <td>0.285</td>\n",
              "    </tr>\n",
              "    <tr>\n",
              "      <th>27</th>\n",
              "      <td>DLLSGVLGGVDDLASLDVAG</td>\n",
              "      <td>0.986</td>\n",
              "      <td>0.014</td>\n",
              "      <td>1.0</td>\n",
              "      <td>0.0</td>\n",
              "      <td>0.698</td>\n",
              "      <td>0.302</td>\n",
              "    </tr>\n",
              "  </tbody>\n",
              "</table>\n",
              "</div>"
            ],
            "text/plain": [
              "                 Peptide  nonCPP_XGB  CPP_XGB  ...  CPP_KNN  nonCPP_RFM  CPP_RFM\n",
              "9           DLLSGVLGGVDN       0.960    0.040  ...      0.0       0.715    0.285\n",
              "27  DLLSGVLGGVDDLASLDVAG       0.986    0.014  ...      0.0       0.698    0.302\n",
              "\n",
              "[2 rows x 7 columns]"
            ]
          },
          "metadata": {},
          "execution_count": 73
        }
      ]
    },
    {
      "cell_type": "code",
      "metadata": {
        "colab": {
          "base_uri": "https://localhost:8080/",
          "height": 168
        },
        "id": "znA3lzBQu4Zj",
        "outputId": "89cbcee6-9721-4e63-d04f-932bb3b1e588"
      },
      "source": [
        "xgb_limit = 0.0\n",
        "knn_limit = 0.0\n",
        "rfm_limit = 0.0\n",
        "pred = predict_CPP(df_animals['leech'], xgb_limit, knn_limit, rfm_limit)\n",
        "pred[pred['Peptide'] == 'HYNKRSTIT']"
      ],
      "execution_count": null,
      "outputs": [
        {
          "output_type": "stream",
          "name": "stdout",
          "text": [
            "KNN model \t303\n",
            "XGB model \t312\n",
            "RF model \t312\n",
            "KNN + XGB + RFM \t312\n",
            "Проникающие пептиды предсказаны за\t0 min 0 sec\n"
          ]
        },
        {
          "output_type": "execute_result",
          "data": {
            "text/html": [
              "<div>\n",
              "<style scoped>\n",
              "    .dataframe tbody tr th:only-of-type {\n",
              "        vertical-align: middle;\n",
              "    }\n",
              "\n",
              "    .dataframe tbody tr th {\n",
              "        vertical-align: top;\n",
              "    }\n",
              "\n",
              "    .dataframe thead th {\n",
              "        text-align: right;\n",
              "    }\n",
              "</style>\n",
              "<table border=\"1\" class=\"dataframe\">\n",
              "  <thead>\n",
              "    <tr style=\"text-align: right;\">\n",
              "      <th></th>\n",
              "      <th>Peptide</th>\n",
              "      <th>nonCPP_XGB</th>\n",
              "      <th>CPP_XGB</th>\n",
              "      <th>nonCPP_KNN</th>\n",
              "      <th>CPP_KNN</th>\n",
              "      <th>nonCPP_RFM</th>\n",
              "      <th>CPP_RFM</th>\n",
              "    </tr>\n",
              "  </thead>\n",
              "  <tbody>\n",
              "    <tr>\n",
              "      <th>94</th>\n",
              "      <td>HYNKRSTIT</td>\n",
              "      <td>0.951</td>\n",
              "      <td>0.049</td>\n",
              "      <td>1.0</td>\n",
              "      <td>0.0</td>\n",
              "      <td>0.644</td>\n",
              "      <td>0.356</td>\n",
              "    </tr>\n",
              "  </tbody>\n",
              "</table>\n",
              "</div>"
            ],
            "text/plain": [
              "      Peptide  nonCPP_XGB  CPP_XGB  nonCPP_KNN  CPP_KNN  nonCPP_RFM  CPP_RFM\n",
              "94  HYNKRSTIT       0.951    0.049         1.0      0.0       0.644    0.356"
            ]
          },
          "metadata": {},
          "execution_count": 100
        }
      ]
    }
  ]
}